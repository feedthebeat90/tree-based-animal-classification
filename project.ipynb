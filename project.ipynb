{
 "cells": [
  {
   "cell_type": "markdown",
   "metadata": {},
   "source": [
    "# Classification Trip to the Animal Kingdom"
   ]
  },
  {
   "cell_type": "code",
   "execution_count": 178,
   "metadata": {},
   "outputs": [
    {
     "name": "stdout",
     "output_type": "stream",
     "text": [
      "The ipython_nose extension is already loaded. To reload it, use:\n",
      "  %reload_ext ipython_nose\n"
     ]
    }
   ],
   "source": [
    "# This is a code cell without any tag. You can put convenience code here,\n",
    "# but it won't be included in any way in the final project.\n",
    "# For example, to be able to run tests locally in the notebook\n",
    "# you need to install the following:\n",
    "# pip install nose\n",
    "# pip install git+https://github.com/datacamp/ipython_nose\n",
    "# and then load in the ipython_nose extension like this:\n",
    "%load_ext ipython_nose"
   ]
  },
  {
   "cell_type": "markdown",
   "metadata": {},
   "source": [
    "#### General information about the project    ####\n",
    "#### All this will be visible on DataCamp.com ####\n",
    "title          : \"Classification Trip to the Animal Kingdom\"\n",
    "\n",
    "description    : > Use Python scikit-learn library to build machine learning models for animal classification. \n",
    "\n",
    "long_description: | # Instructor fills out\n",
    "  *Note: this project is [soft launched](https://en.wikipedia.org/wiki/Soft_launch), which means you may experience bugs. Please click \"Report an Issue\" in the top-right corner of the project interface to provide feedback.*\n",
    "  \n",
    "  In accordance with the Linnaeus method, taxonomists classify the animals, as they do the plants, on the basis of shared physical characteristics. In this project, we are going to learn how to apply Tree-Based Machine Learning Models to classify animals based on various traits. If you are an animal lover and would like to improve you machine learning skills by doing, then this is the project for you!\n",
    "  \n",
    "  To complete this project you should be comfortable with supervised learning in Python and machine learning tree-based models. Check out our <a href=\"https://www.datacamp.com/courses/supervised-learning-with-scikit-learn\">Supervised Learning with scikit-learn</a> and <a href=\"https://www.datacamp.com/courses/machine-learning-with-tree-based-models-in-python\">Machine Learning with Tree-Based Models in Python</a> courses to get familiar or brush up on your skills.\n",
    "  \n",
    "  The dataset used in this project is <a href=\"https://www.kaggle.com/uciml/zoo-animal-classification\">Kaggle's Zoo Animal Classification Dataset</a>. This dataset describes 101 animals from a zoo. It contains 16 variables with various traits to describe animals of 7 different class types: Mammal, Bird, Reptile, Fish, Amphibian, Bug and Invertebrate.\n",
    "\n",
    "  \n",
    "\n",
    "Welcome to the official authoring notebook for your DataCamp project! This notebook, named `project.ipynb`, contains a variety of tagged cells. Tags are in the top left corner of cells. Here's an example of a tag:\n",
    "\n",
    "![tagged_cell_img](https://i.imgur.com/H2TB22Y.png)\n",
    "\n",
    "These tagged cells are processed by software written by our talented DataCamp engineers and a [DataCamp project](https://www.datacamp.com/projects) is the product.\n",
    "\n",
    "<img src=\"https://i.imgur.com/7mqMP5E.jpg\" alt=\"DataCamp project interface\" width=\"600px\"/>\n",
    "\n",
    "Before you start working on this notebook, please read the `project.ipynb` notebook format in our [documentation](https://instructor-support.datacamp.com/projects/datacamp-project-jupyter-notebook-format). Each type of tagged cell is described there.\n",
    "\n",
    "When you first open this notebook, you will find a template for each of the tagged cells for all tasks in your project. Please abide by the content rules there to ensure students have a consistent and smooth learning experience. In addition, the full set of [style guidelines](https://instructor-support.datacamp.com/projects/style-guidelines) will be enforced so please stick to them from the beginning.\n",
    "\n",
    "Also, please do not leave any of the cells below blank as blank cells break the project build and prevent the project from appearing on datacamp.com.\n",
    "\n",
    "That's it for now. Happy creating!\n",
    "\n",
    "*Again, this cell won't be included in the live version of the project because it has no tag.*"
   ]
  },
  {
   "cell_type": "markdown",
   "metadata": {
    "tags": [
     "type:NotebookTask"
    ]
   },
   "source": [
    "## 1. The animal classification problem "
   ]
  },
  {
   "cell_type": "markdown",
   "metadata": {
    "tags": [
     "@context"
    ]
   },
   "source": [
    "\n",
    "<img style=\"float: right;margin:5px 20px 5px 1px\" src=\"img/carl.jpg\" width=\"240\" height=\"200\" align=\"right\">\n",
    "\n",
    "<!--\n",
    "<img style=\"float: left;margin:5px 20px 5px 1px\" src=\"https://upload.wikimedia.org/wikipedia/commons/thumb/4/41/Carl_von_Linn%C3%A9%2C_1707-1778%2C_botanist%2C_professor_%28Alexander_Roslin%29_-_Nationalmuseum_-_15723.tif/lossy-page1-800px-Carl_von_Linn%C3%A9%2C_1707-1778%2C_botanist%2C_professor_%28Alexander_Roslin%29_-_Nationalmuseum_-_15723.tif.jpg\">\n",
    "-->\n",
    "\n",
    "Biologists have been naming and classifying organisms for centuries. The practice of classifying organisms is called taxonomy and it allows biologists to group organisms together based on their shared physical characteristics. Classifying organisms also allows biologists to track their evolutionary history and explain how different groups originated. <br>\n",
    "          \n",
    "Carl Linnaeus (1707 – 1778) was a Swedish botanist and zoologist who is widely considered to be the \"father of modern taxonomy\". Currently, about 1.6 million species have been classified within five major categories, or “kingdoms”:\n",
    "\n",
    "- Plantae (plants)\n",
    "- Animalia (animals)\n",
    "- Fungi (toadstools and mushrooms)\n",
    "- Monera (bacteria and algae)\n",
    "- Protista (microscopic organisms)\n",
    "\n",
    "But, it is believed that many millions of species are yet to be classified. Can this laborious process be automated? \n",
    "\n",
    "In this notebook, we will try to answer this question focusing on the animal kingdom. We will work with Kaggle's <a href=\"https://www.kaggle.com/uciml/zoo-animal-classification\">Zoo Animal Classification</a> dataset and use tree-based machine learning methods. Let's get started!\n",
    "\n",
    "For more information on animal classification, you can follow this <a href=\"https://www.desertusa.com/flora/plant-classified.html#linnaeus#ixzz5vBTa5DgP\">link</a>."
   ]
  },
  {
   "cell_type": "markdown",
   "metadata": {},
   "source": [
    "*Please keep the [soft launch](https://en.wikipedia.org/wiki/Soft_launch) warning and the \"reset the project by clicking the circular arrow\" note in the next `@instructions` cell. The cell you are currently reading has no tag so it won't be included in the project.*"
   ]
  },
  {
   "cell_type": "markdown",
   "metadata": {
    "tags": [
     "@instructions"
    ]
   },
   "source": [
    "Load \"zoo.csv\" data into a DataFrame and do an initial exploration.\n",
    "\n",
    "- Import `pandas` library as `pd` and `matplotlib.pyplot` as `plt`. \n",
    "- Read in `datasets/zoo.csv` and assign it to the variable `animals`.\n",
    "- Print the `shape` of your DataFrame and the types of variables using `animals.dtypes`.\n",
    "- Use `head()` method to check the first 5 rows of your data.\n",
    "\n",
    "<hr>\n",
    "\n",
    "## Good to know\n",
    "\n",
    "*Note: this project is [soft launched](https://en.wikipedia.org/wiki/Soft_launch), which means you may experience bugs. Please click \"Report an Issue\" in the top-right corner of the screen to provide feedback.*\n",
    "\n",
    "This project lets you apply the skills from [Machine Learning with Tree-Based Models in Python](https://www.datacamp.com/courses/machine-learning-with-tree-based-models-in-python). You may also want to refresh the skills taught in its prerequisite course [Supervised Learning with scikit-learn](https://www.datacamp.com/courses/supervised-learning-with-scikit-learn).\n",
    "\n",
    "Helpful links:\n",
    "\n",
    "\n",
    "- reading a flat file [exercise](https://campus.datacamp.com/courses/pandas-foundations/data-ingestion-inspection?ex=10)\n",
    "- pandas.DataFrame [dtypes](https://pandas.pydata.org/pandas-docs/stable/reference/api/pandas.DataFrame.dtypes.html), [shape](https://pandas.pydata.org/pandas-docs/stable/reference/api/pandas.DataFrame.shape.html) and [head](https://pandas.pydata.org/pandas-docs/stable/reference/api/pandas.DataFrame.head.html) documentation\n",
    "\n",
    "If you experience odd behavior you can reset the project by clicking the circular arrow in the bottom-right corner of the screen. Resetting the project will discard all code you have written so be sure to save it offline first.\n",
    "\n",
    "Your code should output something like this:\n",
    "\n",
    "![Task 1 output](img/task_1_output.png)"
   ]
  },
  {
   "cell_type": "markdown",
   "metadata": {
    "tags": [
     "@hint"
    ]
   },
   "source": [
    "One correct solution looks like this (with some code removed):\n",
    "\n",
    "```python\n",
    "import ____ as ____\n",
    "import ____ as ____\n",
    "\n",
    "# Read the dataset into animals variable\n",
    "animals = pd.read_csv(____)\n",
    "\n",
    "# Check the shape of our DataFrame\n",
    "print('The shape of the DataFrame is: ',____.shape)\n",
    "\n",
    "# Check the types of our features\n",
    "print(____.dtypes)\n",
    "\n",
    "# Take a look at first rows of data\n",
    "____.head(____)\n",
    "```\n",
    "\n",
    "If you're still stuck, [here](https://gist.github.com/feedthebeat90/d35cdd5a83b471036e30af60ae3caf4e) is the complete code for this solution"
   ]
  },
  {
   "cell_type": "code",
   "execution_count": 114,
   "metadata": {
    "tags": [
     "@sample_code"
    ]
   },
   "outputs": [],
   "source": [
    "# ... YOUR CODE FOR TASK 1 ..."
   ]
  },
  {
   "cell_type": "code",
   "execution_count": 115,
   "metadata": {
    "tags": [
     "@solution"
    ]
   },
   "outputs": [
    {
     "name": "stdout",
     "output_type": "stream",
     "text": [
      "The shape of the DataFrame is:  (101, 17)\n",
      "animal_name    object\n",
      "hair            int64\n",
      "feathers        int64\n",
      "eggs            int64\n",
      "milk            int64\n",
      "airborne        int64\n",
      "aquatic         int64\n",
      "predator        int64\n",
      "toothed         int64\n",
      "backbone        int64\n",
      "breathes        int64\n",
      "venomous        int64\n",
      "fins            int64\n",
      "legs            int64\n",
      "tail            int64\n",
      "domestic        int64\n",
      "class_type      int64\n",
      "dtype: object\n"
     ]
    },
    {
     "data": {
      "text/html": [
       "<div>\n",
       "<style scoped>\n",
       "    .dataframe tbody tr th:only-of-type {\n",
       "        vertical-align: middle;\n",
       "    }\n",
       "\n",
       "    .dataframe tbody tr th {\n",
       "        vertical-align: top;\n",
       "    }\n",
       "\n",
       "    .dataframe thead th {\n",
       "        text-align: right;\n",
       "    }\n",
       "</style>\n",
       "<table border=\"1\" class=\"dataframe\">\n",
       "  <thead>\n",
       "    <tr style=\"text-align: right;\">\n",
       "      <th></th>\n",
       "      <th>animal_name</th>\n",
       "      <th>hair</th>\n",
       "      <th>feathers</th>\n",
       "      <th>eggs</th>\n",
       "      <th>milk</th>\n",
       "      <th>airborne</th>\n",
       "      <th>aquatic</th>\n",
       "      <th>predator</th>\n",
       "      <th>toothed</th>\n",
       "      <th>backbone</th>\n",
       "      <th>breathes</th>\n",
       "      <th>venomous</th>\n",
       "      <th>fins</th>\n",
       "      <th>legs</th>\n",
       "      <th>tail</th>\n",
       "      <th>domestic</th>\n",
       "      <th>class_type</th>\n",
       "    </tr>\n",
       "  </thead>\n",
       "  <tbody>\n",
       "    <tr>\n",
       "      <th>0</th>\n",
       "      <td>aardvark</td>\n",
       "      <td>1</td>\n",
       "      <td>0</td>\n",
       "      <td>0</td>\n",
       "      <td>1</td>\n",
       "      <td>0</td>\n",
       "      <td>0</td>\n",
       "      <td>1</td>\n",
       "      <td>1</td>\n",
       "      <td>1</td>\n",
       "      <td>1</td>\n",
       "      <td>0</td>\n",
       "      <td>0</td>\n",
       "      <td>4</td>\n",
       "      <td>0</td>\n",
       "      <td>0</td>\n",
       "      <td>1</td>\n",
       "    </tr>\n",
       "    <tr>\n",
       "      <th>1</th>\n",
       "      <td>antelope</td>\n",
       "      <td>1</td>\n",
       "      <td>0</td>\n",
       "      <td>0</td>\n",
       "      <td>1</td>\n",
       "      <td>0</td>\n",
       "      <td>0</td>\n",
       "      <td>0</td>\n",
       "      <td>1</td>\n",
       "      <td>1</td>\n",
       "      <td>1</td>\n",
       "      <td>0</td>\n",
       "      <td>0</td>\n",
       "      <td>4</td>\n",
       "      <td>1</td>\n",
       "      <td>0</td>\n",
       "      <td>1</td>\n",
       "    </tr>\n",
       "    <tr>\n",
       "      <th>2</th>\n",
       "      <td>bass</td>\n",
       "      <td>0</td>\n",
       "      <td>0</td>\n",
       "      <td>1</td>\n",
       "      <td>0</td>\n",
       "      <td>0</td>\n",
       "      <td>1</td>\n",
       "      <td>1</td>\n",
       "      <td>1</td>\n",
       "      <td>1</td>\n",
       "      <td>0</td>\n",
       "      <td>0</td>\n",
       "      <td>1</td>\n",
       "      <td>0</td>\n",
       "      <td>1</td>\n",
       "      <td>0</td>\n",
       "      <td>4</td>\n",
       "    </tr>\n",
       "    <tr>\n",
       "      <th>3</th>\n",
       "      <td>bear</td>\n",
       "      <td>1</td>\n",
       "      <td>0</td>\n",
       "      <td>0</td>\n",
       "      <td>1</td>\n",
       "      <td>0</td>\n",
       "      <td>0</td>\n",
       "      <td>1</td>\n",
       "      <td>1</td>\n",
       "      <td>1</td>\n",
       "      <td>1</td>\n",
       "      <td>0</td>\n",
       "      <td>0</td>\n",
       "      <td>4</td>\n",
       "      <td>0</td>\n",
       "      <td>0</td>\n",
       "      <td>1</td>\n",
       "    </tr>\n",
       "    <tr>\n",
       "      <th>4</th>\n",
       "      <td>boar</td>\n",
       "      <td>1</td>\n",
       "      <td>0</td>\n",
       "      <td>0</td>\n",
       "      <td>1</td>\n",
       "      <td>0</td>\n",
       "      <td>0</td>\n",
       "      <td>1</td>\n",
       "      <td>1</td>\n",
       "      <td>1</td>\n",
       "      <td>1</td>\n",
       "      <td>0</td>\n",
       "      <td>0</td>\n",
       "      <td>4</td>\n",
       "      <td>1</td>\n",
       "      <td>0</td>\n",
       "      <td>1</td>\n",
       "    </tr>\n",
       "  </tbody>\n",
       "</table>\n",
       "</div>"
      ],
      "text/plain": [
       "  animal_name  hair  feathers  eggs  milk  airborne  aquatic  predator  \\\n",
       "0    aardvark     1         0     0     1         0        0         1   \n",
       "1    antelope     1         0     0     1         0        0         0   \n",
       "2        bass     0         0     1     0         0        1         1   \n",
       "3        bear     1         0     0     1         0        0         1   \n",
       "4        boar     1         0     0     1         0        0         1   \n",
       "\n",
       "   toothed  backbone  breathes  venomous  fins  legs  tail  domestic  \\\n",
       "0        1         1         1         0     0     4     0         0   \n",
       "1        1         1         1         0     0     4     1         0   \n",
       "2        1         1         0         0     1     0     1         0   \n",
       "3        1         1         1         0     0     4     0         0   \n",
       "4        1         1         1         0     0     4     1         0   \n",
       "\n",
       "   class_type  \n",
       "0           1  \n",
       "1           1  \n",
       "2           4  \n",
       "3           1  \n",
       "4           1  "
      ]
     },
     "execution_count": 115,
     "metadata": {},
     "output_type": "execute_result"
    }
   ],
   "source": [
    "import pandas as pd\n",
    "import matplotlib.pyplot as plt\n",
    "\n",
    "# Read the dataset into animals variable\n",
    "animals = pd.read_csv('datasets/zoo.csv')\n",
    "\n",
    "# Check the shape of our DataFrame\n",
    "print('The shape of the DataFrame is: ',animals.shape)\n",
    "\n",
    "# Check the types of our features\n",
    "print(animals.dtypes)\n",
    "\n",
    "# Take a look at first rows of data\n",
    "animals.head(5)"
   ]
  },
  {
   "cell_type": "code",
   "execution_count": 116,
   "metadata": {
    "tags": [
     "@tests"
    ]
   },
   "outputs": [
    {
     "data": {
      "application/json": "{\"success\": true, \"summary\": {\"tests\": 1, \"failures\": 0, \"errors\": 0}, \"tests\": [{\"name\": \"__main__.test_example\", \"success\": true, \"message\": \"\"}]}"
     },
     "metadata": {},
     "output_type": "display_data"
    },
    {
     "data": {
      "text/plain": [
       "1/1 tests passed\n"
      ]
     },
     "execution_count": 116,
     "metadata": {},
     "output_type": "execute_result"
    }
   ],
   "source": [
    "%%nose\n",
    "# %%nose needs to be included at the beginning of every @tests cell\n",
    "# David to complete template later. :)\n",
    "\n",
    "def test_example():\n",
    "    assert True, \"Test nothing for now.\""
   ]
  },
  {
   "cell_type": "markdown",
   "metadata": {
    "tags": [
     "type:NotebookTask"
    ]
   },
   "source": [
    "## 2. Exploring \"zoo\" dataset"
   ]
  },
  {
   "cell_type": "markdown",
   "metadata": {
    "tags": [
     "@context"
    ]
   },
   "source": [
    "<img style=\"float: left;margin:5px 20px 5px 1px\" src=\"img/bear.jpg\" width=\"310\" height=\"200\" align=\"right\">\n",
    "\n",
    "<!--\n",
    "<img style=\"float: left;margin:5px 20px 5px 1px\" src=\"https://images.unsplash.com/photo-1530595467537-0b5996c41f2d?ixlib=rb-1.2.1&ixid=eyJhcHBfaWQiOjEyMDd9&auto=format&fit=crop&w=1500&q=80\">\n",
    "-->\n",
    "\n",
    "The DataFrame `animals` contains data on 101 animals from a zoo. There are 15 variables that describe the animals' traits. Almost all variables are numeric-boolean, where \"1\" means the animal possesses the trait and \"0\" means that it does not. The only exception is <code>legs</code> which describes the number of legs the animal has. From row-index \"3\", we can tell that a \"bear\" is a hairy, 4-legged predator that is neither aquatic nor does it lay eggs. <br> \n",
    "\n",
    "In the last column of the DataFrame, animal labels are identified as `class_type`. The seven classes are: Mammal, Bird, Reptile, Fish, Amphibian, Bug, and Invertebrate. Our objective is to predict the animal class label based on their traits. Now let's explore the labels a bit more and tackle our problem!"
   ]
  },
  {
   "cell_type": "markdown",
   "metadata": {
    "tags": [
     "@instructions"
    ]
   },
   "source": [
    "Understand the labels of your data and visualize their distribution.\n",
    "\n",
    "- Define a dictionary in a variable called `class_dict` with the following key-value pairs: 1: 'Mammal', 2: 'Bird', 3: 'Reptile', 4: 'Fish', 5: 'Amphibian', 6: 'Bug', 7: 'Invertebrate'.\n",
    "- Use the `map()` function and `class_dict` dictionary to turn the integer column `class_type` of `animals` into a readable format. Your result should be stored in `animal_class`.\n",
    "- Find the distribution of labels using pandas `value_counts()` method on `animal_class`. Store the result in `labels_dist` and print it.\n",
    "- Use `labels_dist.plot()` to visualize the distribution of labels. Set the `kind` attribute to `'bar'`. \n",
    "\n",
    "<hr>\n",
    "\n",
    "Helpful links:\n",
    "- pandas.Series [map](https://pandas.pydata.org/pandas-docs/stable/reference/api/pandas.Series.map.html) and [value_counts](https://pandas.pydata.org/pandas-docs/stable/reference/api/pandas.Series.value_counts.html) documentation\n",
    "- useful [link](https://stackoverflow.com/questions/31029560/plotting-categorical-data-with-pandas-and-matplotlib) with plotting information\n",
    "\n",
    "Your code should output something like this:\n",
    "\n",
    "![Task 2 output](img/task_2_output.png)"
   ]
  },
  {
   "cell_type": "markdown",
   "metadata": {
    "tags": [
     "@hint"
    ]
   },
   "source": [
    "One correct solution looks like this (with some code removed):\n",
    "\n",
    "```python\n",
    "# Dictionary for mapping 'class_type' (integer) to 'animal_class' (string) \n",
    "class_dict = {____}\n",
    "\n",
    "# Function to map column of integer labels to string format\n",
    "animal_class = ____.____.map(____)\n",
    "\n",
    "# Print distribution of labels and plot it\n",
    "labels_dist = ____.value_counts()\n",
    "print(____)\n",
    "____.plot(____=____)\n",
    "plt.title('Labels Distribution')\n",
    "plt.show()\n",
    "```\n",
    "\n",
    "\n",
    "If you're still stuck, [here](https://gist.github.com/feedthebeat90/223a95d70dbe3a5bd21c8217769f09c3) is the complete code for this solution"
   ]
  },
  {
   "cell_type": "code",
   "execution_count": 147,
   "metadata": {
    "tags": [
     "@sample_code"
    ]
   },
   "outputs": [],
   "source": [
    "# ... YOUR CODE FOR TASK 2 ..."
   ]
  },
  {
   "cell_type": "code",
   "execution_count": 148,
   "metadata": {
    "tags": [
     "@solution"
    ]
   },
   "outputs": [
    {
     "name": "stdout",
     "output_type": "stream",
     "text": [
      "Mammal          41\n",
      "Bird            20\n",
      "Fish            13\n",
      "Invertebrate    10\n",
      "Bug              8\n",
      "Reptile          5\n",
      "Amphibian        4\n",
      "Name: class_type, dtype: int64\n"
     ]
    },
    {
     "data": {
      "image/png": "[encoded data removed]",
      "text/plain": [
       "<Figure size 432x288 with 1 Axes>"
      ]
     },
     "metadata": {
      "needs_background": "light"
     },
     "output_type": "display_data"
    }
   ],
   "source": [
    "# Dictionary for mapping 'class_type' (integer) to 'animal_class' (string) \n",
    "class_dict = {1: 'Mammal', 2: 'Bird', 3: 'Reptile', 4: 'Fish', \n",
    "              5: 'Amphibian', 6: 'Bug', 7: 'Invertebrate'}\n",
    "\n",
    "# Function to map column of integer labels to string format\n",
    "animal_class = animals.class_type.map(class_dict)\n",
    "\n",
    "# Print distribution of labels and plot it\n",
    "labels_dist = animal_class.value_counts()\n",
    "print(labels_dist)\n",
    "labels_dist.plot(kind='bar')\n",
    "plt.title('Label Distribution')\n",
    "plt.show()"
   ]
  },
  {
   "cell_type": "code",
   "execution_count": 149,
   "metadata": {
    "tags": [
     "@tests"
    ]
   },
   "outputs": [
    {
     "data": {
      "application/json": "{\"success\": true, \"summary\": {\"tests\": 1, \"failures\": 0, \"errors\": 0}, \"tests\": [{\"name\": \"__main__.test_example\", \"success\": true, \"message\": \"\"}]}"
     },
     "metadata": {},
     "output_type": "display_data"
    },
    {
     "data": {
      "text/plain": [
       "1/1 tests passed\n"
      ]
     },
     "execution_count": 149,
     "metadata": {},
     "output_type": "execute_result"
    }
   ],
   "source": [
    "%%nose\n",
    "# %%nose needs to be included at the beginning of every @tests cell\n",
    "# David to complete template later. :)\n",
    "\n",
    "def test_example():\n",
    "    assert True, \"Test nothing for now.\""
   ]
  },
  {
   "cell_type": "markdown",
   "metadata": {
    "tags": [
     "type:NotebookTask"
    ]
   },
   "source": [
    "## 3. Understanding and setting up the data"
   ]
  },
  {
   "cell_type": "markdown",
   "metadata": {
    "tags": [
     "@context"
    ]
   },
   "source": [
    "\n",
    "<img style=\"float: right;margin:5px 20px 5px 1px\" src=\"img/butterfly.jpeg\" width=\"200\" height=\"200\" align=\"right\">\n",
    "\n",
    "<!--\n",
    "<img style=\"float: left;margin:5px 20px 5px 1px\" src=\"https://images.unsplash.com/photo-1535068484622-7a077e5aa558?ixlib=rb-1.2.1&ixid=eyJhcHBfaWQiOjEyMDd9&auto=format&fit=crop&w=375&q=80\">\n",
    "-->\n",
    "\n",
    "In the cell above we visualized the distribution of animal labels by breaking Kingdom Animalia into seven classes. Notice that almost 75% of our data consists of mammals, birds, and fishes.    <br>\n",
    "\n",
    "Also, note that invertebrates and bugs were split into two groups in our dataset even though a zoologist would say that bugs are a subset of invertebrates. And finally, the reptile and amphibian classes account for less than 10% of the entries.\n",
    "\n",
    "Fun fact: invertebrates were the first animals to evolve about a billion years ago. These animals are characterized by their lack of a backbone and internal skeletons, as well as their relatively simple anatomy and behavior, at least as compared to most vertebrates. More fun facts can be found <a href=\"https://www.thoughtco.com/the-six-basic-animal-groups-4096604\">here</a>!\n",
    "\n",
    "\n",
    "Now, let's prepare our data for classification!"
   ]
  },
  {
   "cell_type": "markdown",
   "metadata": {
    "tags": [
     "@instructions"
    ]
   },
   "source": [
    "Preprocess data and split it into train and test sets.\n",
    "\n",
    "- Import `train_test_split` from `sklearn.model_selection`.\n",
    "- Build a list of strings that contain the names of every column in `animals` DataFrame and store it in a variable named `features`. Make sure 'class_type' header is also included in your list.\n",
    "- Build a matrix of features `X` and a vector of labels `y` using data stored in `animals` DataFrame.\n",
    "- Define the variable `SEED` and instantiate it with the number 1.\n",
    "- Split your data as `X_train`, `X_test`, `y_train`, and `y_test` using `train_test_split`. Use a `test_size` of 0.3 , set `stratify` to `y` and use `SEED` for `random_state`.\n",
    "\n",
    "<hr>\n",
    "\n",
    "Helpful links:\n",
    "- DataCamp [exercise](https://campus.datacamp.com/courses/machine-learning-with-tree-based-models-in-python/the-bias-variance-tradeoff?ex=5) on model instantiation.\n",
    "- useful [link](https://stackoverflow.com/questions/19482970/get-list-from-pandas-dataframe-column-headers) to retrieve column names from a DataFrame\n",
    "\n",
    "__There is no expected output for this task.__"
   ]
  },
  {
   "cell_type": "markdown",
   "metadata": {
    "tags": [
     "@hint"
    ]
   },
   "source": [
    "One correct solution looks like this (with some code removed):\n",
    "\n",
    "```python\n",
    "from ____ import ____\n",
    "\n",
    "# Build a list of features available in our dataset\n",
    "features = list(____.columns.values)\n",
    "\n",
    "# Build a matrix of features and a vector of labels\n",
    "X = ____[____[____:____]]\n",
    "y = ____[____[____]]\n",
    "\n",
    "# Setting a seed for reproducibility of results\n",
    "SEED = ____\n",
    "\n",
    "# Split the data into 70% train and 30% test.\n",
    "X_train, X_test, y_train, y_test = train_test_split(____, ____, \n",
    "                                                    ____=____, ____=____, ____=____)\n",
    "```\n",
    "\n",
    "If you're still stuck, [here](https://gist.github.com/feedthebeat90/86b99774b53be7027f1412861b4f3ca1) is the complete code for this solution"
   ]
  },
  {
   "cell_type": "code",
   "execution_count": 150,
   "metadata": {
    "tags": [
     "@sample_code"
    ]
   },
   "outputs": [],
   "source": [
    "# ... YOUR CODE FOR TASK 3 ..."
   ]
  },
  {
   "cell_type": "code",
   "execution_count": 151,
   "metadata": {
    "tags": [
     "@solution"
    ]
   },
   "outputs": [],
   "source": [
    "from sklearn.model_selection import train_test_split\n",
    "\n",
    "# Build a list of features available in our dataset\n",
    "features = list(animals.columns.values)\n",
    "\n",
    "# Build a matrix of features and a vector of labels\n",
    "X = animals[features[1:-1]]\n",
    "y = animals[features[-1]]\n",
    "\n",
    "# Setting a seed for reproducibility of results\n",
    "SEED = 1\n",
    "\n",
    "# Split the data into 70% train and 30% test.\n",
    "X_train, X_test, y_train, y_test = train_test_split(X, y, test_size=0.3, stratify=y, random_state=SEED)"
   ]
  },
  {
   "cell_type": "code",
   "execution_count": 152,
   "metadata": {
    "tags": [
     "@tests"
    ]
   },
   "outputs": [
    {
     "data": {
      "application/json": "{\"success\": true, \"summary\": {\"tests\": 1, \"failures\": 0, \"errors\": 0}, \"tests\": [{\"name\": \"__main__.test_example\", \"success\": true, \"message\": \"\"}]}"
     },
     "metadata": {},
     "output_type": "display_data"
    },
    {
     "data": {
      "text/plain": [
       "1/1 tests passed\n"
      ]
     },
     "execution_count": 152,
     "metadata": {},
     "output_type": "execute_result"
    }
   ],
   "source": [
    "%%nose\n",
    "# %%nose needs to be included at the beginning of every @tests cell\n",
    "# David to complete template later. :)\n",
    "\n",
    "def test_example():\n",
    "    assert True, \"Test nothing for now.\""
   ]
  },
  {
   "cell_type": "markdown",
   "metadata": {
    "tags": [
     "type:NotebookTask"
    ]
   },
   "source": [
    "## 4. Building our first classifier"
   ]
  },
  {
   "cell_type": "markdown",
   "metadata": {
    "tags": [
     "@context"
    ]
   },
   "source": [
    "<img style=\"float: left;margin:5px 20px 5px 1px\" src=\"img/leopard.jpg\" width=\"300\" height=\"200\" align=\"right\">\n",
    "\n",
    "<!--\n",
    "<img style=\"float: left;margin:5px 20px 5px 1px\" src=\"https://images.unsplash.com/photo-1456926631375-92c8ce872def?ixlib=rb-1.2.1&ixid=eyJhcHBfaWQiOjEyMDd9&auto=format&fit=crop&w=750&q=80\">\n",
    "-->\n",
    "\n",
    "In the cell above we prepared our data by constructing a matrix of features and a vector of labels to feed our models. Notice that we dropped the column <code>animal_name</code> because the models we are going to build will only take numeric variables as input. Do not worry, we will recover this column later while exploring our results! Lastly, notice a <code>SEED</code> value was set to 1 in the cell above to ensure reproducibility of results on our project.\n",
    "\n",
    "Now that we have a good understanding of our data and we have set it up, let's build our first classification tree!"
   ]
  },
  {
   "cell_type": "markdown",
   "metadata": {
    "tags": [
     "@instructions"
    ]
   },
   "source": [
    "Build your first classification tree model. \n",
    "\n",
    "- Import `DecisionTreeClassifier` from `sklearn.tree` and `accuracy_score` from `sklearn.metrics`.  \n",
    "- Instantiate a `DecisionTreeClassifier` as `dt` setting its `random_state` to `SEED`. Fit your model using your training set afterwards.\n",
    "- Use your `dt` model to get predictions using `X_train` and store them in `y_pred_tr`. Proceed likewise with `X_test` and store your predictions in `y_pred_dt`.\n",
    "- Compute the `accuracy_score` achieved with both the train and test sets and print the results.\n",
    "\n",
    "\n",
    "<hr>\n",
    "\n",
    "Helpful links:\n",
    "\n",
    "- DataCamp [exercise](https://campus.datacamp.com/courses/machine-learning-with-tree-based-models-in-python/classification-and-regression-trees?ex=2) to build a classification tree\n",
    "- [Scikit-Learn: Decision Trees](https://scikit-learn.org/stable/modules/tree.html#)\n",
    "\n",
    "\n",
    "\n",
    "Your code should output something like this:\n",
    "\n",
    "![Task 4 output](img/task_4_output.png)"
   ]
  },
  {
   "cell_type": "markdown",
   "metadata": {
    "tags": [
     "@hint"
    ]
   },
   "source": [
    "One correct solution looks like this (with some code removed):\n",
    "\n",
    "```python\n",
    "from ____ import ____\n",
    "from ____ import ____\n",
    "\n",
    "# Instantiate a DecisionTreeClassifier\n",
    "dt = DecisionTreeClassifier(____=____)\n",
    "# Train your model\n",
    "____.fit(____, ____)\n",
    "\n",
    "# Predict on training and test sets\n",
    "y_pred_tr = ____.predict(____)\n",
    "y_pred_dt = ____.predict(____)\n",
    "\n",
    "# Compute accuracy on training and test sets \n",
    "print(\"Train set accuracy: {:.2f}\".format(accuracy_score(____, ____)))\n",
    "print(\"Test set accuracy: {:.2f}\".format(accuracy_score(____, ____)))\n",
    "```\n",
    "\n",
    "If you're still stuck, [here](https://gist.github.com/feedthebeat90/21adf3b30b6e72f89d9ed437defb76ae) is the complete code for this solution"
   ]
  },
  {
   "cell_type": "code",
   "execution_count": 153,
   "metadata": {
    "tags": [
     "@sample_code"
    ]
   },
   "outputs": [],
   "source": [
    "# ... YOUR CODE FOR TASK 4 ..."
   ]
  },
  {
   "cell_type": "code",
   "execution_count": 154,
   "metadata": {
    "tags": [
     "@solution"
    ]
   },
   "outputs": [
    {
     "name": "stdout",
     "output_type": "stream",
     "text": [
      "Train set accuracy: 1.00\n",
      "Test set accuracy: 0.94\n"
     ]
    }
   ],
   "source": [
    "from sklearn.tree import DecisionTreeClassifier\n",
    "from sklearn.metrics import accuracy_score\n",
    "\n",
    "# Instantiate a DecisionTreeClassifier\n",
    "dt = DecisionTreeClassifier(random_state=SEED)\n",
    "# Train your model\n",
    "dt.fit(X_train, y_train)\n",
    "\n",
    "# Predict on training and test sets\n",
    "y_pred_tr = dt.predict(X_train)\n",
    "y_pred_dt = dt.predict(X_test)\n",
    "\n",
    "# Compute accuracy on training and test sets \n",
    "print(\"Train set accuracy: {:.2f}\".format(accuracy_score(y_train, y_pred_tr)))\n",
    "print(\"Test set accuracy: {:.2f}\".format(accuracy_score(y_test, y_pred_dt)))"
   ]
  },
  {
   "cell_type": "code",
   "execution_count": 155,
   "metadata": {
    "tags": [
     "@tests"
    ]
   },
   "outputs": [
    {
     "data": {
      "application/json": "{\"success\": true, \"summary\": {\"tests\": 1, \"failures\": 0, \"errors\": 0}, \"tests\": [{\"name\": \"__main__.test_example\", \"success\": true, \"message\": \"\"}]}"
     },
     "metadata": {},
     "output_type": "display_data"
    },
    {
     "data": {
      "text/plain": [
       "1/1 tests passed\n"
      ]
     },
     "execution_count": 155,
     "metadata": {},
     "output_type": "execute_result"
    }
   ],
   "source": [
    "%%nose\n",
    "# %%nose needs to be included at the beginning of every @tests cell\n",
    "# David to complete template later. :)\n",
    "\n",
    "def test_example():\n",
    "    assert True, \"Test nothing for now.\""
   ]
  },
  {
   "cell_type": "markdown",
   "metadata": {
    "tags": [
     "type:NotebookTask"
    ]
   },
   "source": [
    "## 5. Tuning our model (Part I)"
   ]
  },
  {
   "cell_type": "markdown",
   "metadata": {
    "tags": [
     "@context"
    ]
   },
   "source": [
    "\n",
    "<img style=\"float: right;margin:5px 20px 5px 1px\" src=\"img/bird.jpeg\" width=\"250\" height=\"200\" align=\"right\">\n",
    "\n",
    "<!--\n",
    "<img style=\"float: left;margin:5px 20px 5px 1px\" src=\"https://images.unsplash.com/photo-1535083783855-76ae62b2914e?ixlib=rb-1.2.1&ixid=eyJhcHBfaWQiOjEyMDd9&auto=format&fit=crop&w=675&q=80\">\n",
    "-->\n",
    "\n",
    "\n",
    "Wow! We got an outstanding 94% test set accuracy right out of the box! The classification tree seems well suited for our simplified animal classification problem. However, be aware that this will not always be the case when working with less \"friendly\" datasets on more complex, real-life problems. <br>\n",
    "\n",
    "Additionally, notice that even though the training set accuracy was 100%, our model did not perform as well on the test set. Why is that? One possible reason is that the classification tree might be overfitting the training data and capturing patterns that are not present in the test set. We can try tuning our model by doing a cross-validated grid search, `GridSearchCV()`, and checking whether the accuracy improved. Let's do it!"
   ]
  },
  {
   "cell_type": "markdown",
   "metadata": {
    "tags": [
     "@instructions"
    ]
   },
   "source": [
    "Perform a grid-search cross validation.\n",
    "\n",
    "- Import `GridSearchCV` from `sklearn.model_selection`.\n",
    "- Define a variable `params_dt` containing this dictionary: `{'max_depth': [3,4,5,6],'min_samples_leaf': [0.01, 0.05, 0.1], 'min_samples_split': [2, 4, 6], 'criterion': ['gini', 'entropy']}`.\n",
    "- Instantiate a `GridSearchCV` as `grid_dt` using your parameter grid, `dt` as your estimator and setting `cv` to 3. Also, set `verbose` to 1, `n_jobs` to -1 and choose `'accuracy'` for `scoring`.  \n",
    "- Fit your model and use `best_estimator_` to store the best classifier in `best_model`.\n",
    "\n",
    "<hr>\n",
    "\n",
    "Helpful links:\n",
    "\n",
    "- DataCamp [exercise](https://campus.datacamp.com/courses/machine-learning-with-tree-based-models-in-python/model-tuning?ex=3) on cross validation\n",
    "- Scikit-Learn [Grid Search Cross Validation](https://scikit-learn.org/stable/modules/generated/sklearn.model_selection.GridSearchCV.html#) documentation\n",
    "\n",
    "Your code should output something like this:\n",
    "\n",
    "![Task 5 output](img/task_5_output.png)"
   ]
  },
  {
   "cell_type": "markdown",
   "metadata": {
    "tags": [
     "@hint"
    ]
   },
   "source": [
    "One correct solution looks like this (with some code removed):\n",
    "\n",
    "```python\n",
    "from ____ import ____\n",
    "\n",
    "# Define a parameter grid to feed GridSearchCV\n",
    "params_dt = {____: [____],____: [____], \n",
    "             ____: [____], ____: [____]}\n",
    "\n",
    "# Instantiate a GridSearchCV\n",
    "grid_dt = GridSearchCV(____=____, ____=____, \n",
    "                       ____=____,____=____,____=____,____=____)\n",
    "\n",
    "# Train the model and extract best estimator\n",
    "____.fit(____, ____)\n",
    "\n",
    "# Store your best estimator in best_model\n",
    "best_model = ____.best_estimator_\n",
    "```\n",
    "\n",
    "If you're still stuck, [here](https://gist.github.com/feedthebeat90/99092798a27e32b1d537783c2543aed5) is the complete code for this solution"
   ]
  },
  {
   "cell_type": "code",
   "execution_count": 156,
   "metadata": {
    "tags": [
     "@sample_code"
    ]
   },
   "outputs": [],
   "source": [
    "# ... YOUR CODE FOR TASK 5 ..."
   ]
  },
  {
   "cell_type": "code",
   "execution_count": 157,
   "metadata": {
    "tags": [
     "@solution"
    ]
   },
   "outputs": [
    {
     "name": "stdout",
     "output_type": "stream",
     "text": [
      "Fitting 3 folds for each of 72 candidates, totalling 216 fits\n"
     ]
    },
    {
     "name": "stderr",
     "output_type": "stream",
     "text": [
      "[Parallel(n_jobs=-1)]: Using backend LokyBackend with 4 concurrent workers.\n",
      "[Parallel(n_jobs=-1)]: Done 216 out of 216 | elapsed:    0.8s finished\n",
      "/Users/lnisenbaum/anaconda3/lib/python3.7/site-packages/sklearn/model_selection/_search.py:813: DeprecationWarning: The default of the `iid` parameter will change from True to False in version 0.22 and will be removed in 0.24. This will change numeric results when test-set sizes are unequal.\n",
      "  DeprecationWarning)\n"
     ]
    }
   ],
   "source": [
    "from sklearn.model_selection import GridSearchCV\n",
    "\n",
    "# Define a parameter grid to feed GridSearchCV\n",
    "params_dt = {'max_depth': [3,4,5,6],'min_samples_leaf': [0.01, 0.05, 0.1], \n",
    "             'min_samples_split': [2, 4, 6], 'criterion': ['gini', 'entropy']}\n",
    "\n",
    "# Instantiate a GridSearchCV\n",
    "grid_dt = GridSearchCV(estimator=dt, param_grid=params_dt, \n",
    "                       scoring='accuracy',cv=3,verbose=1,n_jobs=-1)\n",
    "\n",
    "# Train the model and extract best estimator\n",
    "grid_dt.fit(X_train, y_train)\n",
    "\n",
    "# Store your best estimator in best_model\n",
    "best_model = grid_dt.best_estimator_"
   ]
  },
  {
   "cell_type": "code",
   "execution_count": 158,
   "metadata": {
    "tags": [
     "@tests"
    ]
   },
   "outputs": [
    {
     "data": {
      "application/json": "{\"success\": true, \"summary\": {\"tests\": 1, \"failures\": 0, \"errors\": 0}, \"tests\": [{\"name\": \"__main__.test_example\", \"success\": true, \"message\": \"\"}]}"
     },
     "metadata": {},
     "output_type": "display_data"
    },
    {
     "data": {
      "text/plain": [
       "1/1 tests passed\n"
      ]
     },
     "execution_count": 158,
     "metadata": {},
     "output_type": "execute_result"
    }
   ],
   "source": [
    "%%nose\n",
    "# %%nose needs to be included at the beginning of every @tests cell\n",
    "# David to complete template later. :)\n",
    "\n",
    "def test_example():\n",
    "    assert True, \"Test nothing for now.\""
   ]
  },
  {
   "cell_type": "markdown",
   "metadata": {
    "tags": [
     "type:NotebookTask"
    ]
   },
   "source": [
    "## 6. Tuning our model (Part II)"
   ]
  },
  {
   "cell_type": "markdown",
   "metadata": {
    "tags": [
     "@context"
    ]
   },
   "source": [
    "\n",
    "<img style=\"float: right;margin:5px 20px 5px 1px\" src=\"img/elephants.jpg\" width=\"450\" height=\"200\" align=\"right\">\n",
    "\n",
    "<!--\n",
    "<img style=\"float: left;margin:5px 20px 5px 1px\" src=\"https://images.unsplash.com/photo-1521651201144-634f700b36ef?ixlib=rb-1.2.1&ixid=eyJhcHBfaWQiOjEyMDd9&auto=format&fit=crop&w=1050&q=80\">\n",
    "-->\n",
    "\n",
    "\n",
    "Good job! We have just performed a grid search cross validation on our data and found a best model. Moving forward, we can make predictions with the best model configuration found above. \n",
    "\n",
    "Will we be able to get any improvement on accuracy after model tuning?"
   ]
  },
  {
   "cell_type": "markdown",
   "metadata": {
    "tags": [
     "@instructions"
    ]
   },
   "source": [
    "Check the results of your grid-search cross validation.\n",
    "\n",
    "- Print the parameters of your tuned model using `grid_dt.best_params_`. \n",
    "- Get predictions with your `best_model` using `predict()` method and `X_test` . Store them on `y_pred_gs`.\n",
    "- Compute the accuracy of your predictions using `accuracy_score` function and stored them in a variable `acc`.\n",
    "- Print the results stored in `acc`.\n",
    "\n",
    "<hr>\n",
    "\n",
    "Helpful links:\n",
    "- DataCamp [exercise](https://campus.datacamp.com/courses/machine-learning-with-tree-based-models-in-python/classification-and-regression-trees?ex=3) on model evaluation\n",
    "- Scikit-Learn [Grid Search Cross Validation](https://scikit-learn.org/stable/modules/generated/sklearn.model_selection.GridSearchCV.html#) documentation\n",
    "\n",
    "Your code should output something like this:\n",
    "\n",
    "![Task 6 output](img/task_6_output.png)"
   ]
  },
  {
   "cell_type": "markdown",
   "metadata": {
    "tags": [
     "@hint"
    ]
   },
   "source": [
    "One correct solution looks like this (with some code removed):\n",
    "\n",
    "```python\n",
    "# Check best parameters\n",
    "print(____.best_params_)\n",
    "\n",
    "# Compute test set predictions\n",
    "y_pred_gs = ____.predict(____)\n",
    "\n",
    "# Compute test set cccuracy\n",
    "acc = accuracy_score(____, ____)\n",
    "\n",
    "# Print results\n",
    "print('Test set accuracy of GridSearchCV: {:.2f}'.format(____))\n",
    "\n",
    "```\n",
    "\n",
    "If you're still stuck, [here](https://gist.github.com/feedthebeat90/67192600b5acad55d0cba8c074f7d1d8) is the complete code for this solution"
   ]
  },
  {
   "cell_type": "code",
   "execution_count": 159,
   "metadata": {
    "tags": [
     "@sample_code"
    ]
   },
   "outputs": [],
   "source": [
    "# ... YOUR CODE FOR TASK 6 ..."
   ]
  },
  {
   "cell_type": "code",
   "execution_count": 160,
   "metadata": {
    "tags": [
     "@solution"
    ]
   },
   "outputs": [
    {
     "name": "stdout",
     "output_type": "stream",
     "text": [
      "{'criterion': 'gini', 'max_depth': 6, 'min_samples_leaf': 0.01, 'min_samples_split': 2}\n",
      "Test set accuracy of GridSearchCV: 0.94\n"
     ]
    }
   ],
   "source": [
    "# Check best parameters\n",
    "print(grid_dt.best_params_)\n",
    "\n",
    "# Compute test set predictions\n",
    "y_pred_gs = best_model.predict(X_test)\n",
    "\n",
    "# Compute test set cccuracy\n",
    "acc = accuracy_score(y_test, y_pred_gs)\n",
    "\n",
    "# Print results\n",
    "print('Test set accuracy of GridSearchCV: {:.2f}'.format(acc))"
   ]
  },
  {
   "cell_type": "code",
   "execution_count": 161,
   "metadata": {
    "tags": [
     "@tests"
    ]
   },
   "outputs": [
    {
     "data": {
      "application/json": "{\"success\": true, \"summary\": {\"tests\": 1, \"failures\": 0, \"errors\": 0}, \"tests\": [{\"name\": \"__main__.test_example\", \"success\": true, \"message\": \"\"}]}"
     },
     "metadata": {},
     "output_type": "display_data"
    },
    {
     "data": {
      "text/plain": [
       "1/1 tests passed\n"
      ]
     },
     "execution_count": 161,
     "metadata": {},
     "output_type": "execute_result"
    }
   ],
   "source": [
    "%%nose\n",
    "# %%nose needs to be included at the beginning of every @tests cell\n",
    "# David to complete template later. :)\n",
    "\n",
    "def test_example():\n",
    "    assert True, \"Test nothing for now.\""
   ]
  },
  {
   "cell_type": "markdown",
   "metadata": {
    "tags": [
     "type:NotebookTask"
    ]
   },
   "source": [
    "## 7. Comparing results with a linear model"
   ]
  },
  {
   "cell_type": "markdown",
   "metadata": {
    "tags": [
     "@context"
    ]
   },
   "source": [
    "<img style=\"float: left;margin:5px 20px 5px 1px\" src=\"img/monkey.jpg\" width=\"200\" height=\"200\" align=\"right\">\n",
    "\n",
    "<!--\n",
    "<img style=\"float: left;margin:5px 20px 5px 1px\" src=\"https://images.unsplash.com/photo-1554457946-e1ca960504b3?ixlib=rb-1.2.1&ixid=eyJhcHBfaWQiOjEyMDd9&auto=format&fit=crop&w=634&q=80\">\n",
    "-->\n",
    "\n",
    "Oops! It seems like after fitting more than 200 different model configurations on our grid search, we are not getting accuracy improvements!  \n",
    "\n",
    "It might be the case that there are limitations with this model and that it is unable to predict with greater accuracy. Or, maybe the data we are using has limitations we do not know about. We might even be experiencing a combination of both problems!\n",
    "\n",
    "In order to keep exploring our question, let's fit a logistic regression model and compare it to the best decision tree model."
   ]
  },
  {
   "cell_type": "markdown",
   "metadata": {
    "tags": [
     "@instructions"
    ]
   },
   "source": [
    "Build a logistic regression model to compare results.\n",
    "\n",
    "- Import `LogisticRegression` module from `sklearn.linear_model`.\n",
    "- Instantiate a `LogisticRegression` classifier as `lr` setting its `random_state` to `SEED` and `max_iter` to 1500. Additionally, choose 'lbfgs' as your `solver` and set `multi_class` to 'multinomial'.\n",
    "- Use `.fit()` on your model, `lr`, with the training data.\n",
    "- Compute and print the accuracy using `lr.score()` method for both the train and test sets.\n",
    "\n",
    "<hr>\n",
    "\n",
    "Helpful links:\n",
    "- DataCamp [lesson](https://campus.datacamp.com/courses/linear-classifiers-in-python/applying-logistic-regression-and-svm?ex=5) on Logistic Regression\n",
    "- Scikit-Learn [Logistic Regression](https://scikit-learn.org/stable/modules/generated/sklearn.linear_model.LogisticRegression.html) documentation\n",
    "\n",
    "Your code should output something like this:\n",
    "\n",
    "![Task 7 output](img/task_7_output.png)"
   ]
  },
  {
   "cell_type": "markdown",
   "metadata": {
    "tags": [
     "@hint"
    ]
   },
   "source": [
    "One correct solution looks like this (with some code removed):\n",
    "\n",
    "```python\n",
    "# Import linear Logistic Regression classifier \n",
    "from ____ import ____\n",
    "\n",
    "# Instantiate a Logistic Regression model\n",
    "lr = LogisticRegression(____=____, ____=____, \n",
    "                        ____=____, ____=____)\n",
    "\n",
    "# Fit model to the training set\n",
    "____.fit(____, ____)\n",
    "\n",
    "# Print train and test set accuracy\n",
    "print(\"Train set accuracy: {:.2f}\".format(lr.score(____, ____)))\n",
    "print(\"Test set accuracy: {:.2f}\".format(lr.score(____, ____)))\n",
    "```\n",
    "\n",
    "If you're still stuck, [here](https://gist.github.com/feedthebeat90/af42f10da796d6eac0dd46ad87e0d36e) is the complete code for this solution"
   ]
  },
  {
   "cell_type": "code",
   "execution_count": 162,
   "metadata": {
    "tags": [
     "@sample_code"
    ]
   },
   "outputs": [],
   "source": [
    "# ... YOUR CODE FOR TASK 7 ..."
   ]
  },
  {
   "cell_type": "code",
   "execution_count": 163,
   "metadata": {
    "tags": [
     "@solution"
    ]
   },
   "outputs": [
    {
     "name": "stdout",
     "output_type": "stream",
     "text": [
      "Train set accuracy: 1.00\n",
      "Test set accuracy: 0.97\n"
     ]
    }
   ],
   "source": [
    "# Import linear Logistic Regression classifier \n",
    "from sklearn.linear_model import LogisticRegression\n",
    "\n",
    "# Instantiate a Logistic Regression model\n",
    "lr = LogisticRegression(random_state=SEED, solver='lbfgs', \n",
    "                        max_iter= 1500, multi_class='multinomial')\n",
    "\n",
    "# Fit model to the training set\n",
    "lr.fit(X_train, y_train)\n",
    "\n",
    "# Print train and test set accuracy\n",
    "print(\"Train set accuracy: {:.2f}\".format(lr.score(X_train, y_train)))\n",
    "print(\"Test set accuracy: {:.2f}\".format(lr.score(X_test, y_test)))"
   ]
  },
  {
   "cell_type": "code",
   "execution_count": 164,
   "metadata": {
    "tags": [
     "@tests"
    ]
   },
   "outputs": [
    {
     "data": {
      "application/json": "{\"success\": true, \"summary\": {\"tests\": 1, \"failures\": 0, \"errors\": 0}, \"tests\": [{\"name\": \"__main__.test_example\", \"success\": true, \"message\": \"\"}]}"
     },
     "metadata": {},
     "output_type": "display_data"
    },
    {
     "data": {
      "text/plain": [
       "1/1 tests passed\n"
      ]
     },
     "execution_count": 164,
     "metadata": {},
     "output_type": "execute_result"
    }
   ],
   "source": [
    "%%nose\n",
    "# %%nose needs to be included at the beginning of every @tests cell\n",
    "# David to complete template later. :)\n",
    "\n",
    "def test_example():\n",
    "    assert True, \"Test nothing for now.\""
   ]
  },
  {
   "cell_type": "markdown",
   "metadata": {
    "tags": [
     "type:NotebookTask"
    ]
   },
   "source": [
    "## 8. Trying a more complex tree-based model"
   ]
  },
  {
   "cell_type": "markdown",
   "metadata": {
    "tags": [
     "@context"
    ]
   },
   "source": [
    "<img style=\"float: right;margin:5px 20px 5px 1px\" src=\"img/turtle.jpg\" width=\"350\" height=\"200\" align=\"right\">\n",
    "\n",
    "<!--\n",
    "<img style=\"float: left;margin:5px 20px 5px 1px\" src=\"https://images.unsplash.com/photo-1437622368342-7a3d73a34c8f?ixlib=rb-1.2.1&ixid=eyJhcHBfaWQiOjEyMDd9&auto=format&fit=crop&w=1100&q=80\">\n",
    "-->\n",
    "\n",
    "From the cell above, it seems like the linear logistic regression model outperforms the base decision tree model. So, our next question might be: is it possible to build a more complex tree based model that can match or outperform the logistic regression model? <br> \n",
    "          <br> For this purpose, we can build a random forest model and compare its performance to our previous models!"
   ]
  },
  {
   "cell_type": "markdown",
   "metadata": {
    "tags": [
     "@instructions"
    ]
   },
   "source": [
    "Build a random forest classifier and check whether it outperforms your previous models. \n",
    "\n",
    "- Instantiate a `RandomForestClassifier` as `rf` setting its `random_state` to `SEED` and `n_estimators` to 25. \n",
    "- Fit your model using your training set.\n",
    "- Use your test set to get predictions and stored them in `y_pred_rf`.\n",
    "- Compute the `accuracy_score` achieved with on your test set.\n",
    "\n",
    "<hr>\n",
    "\n",
    "Helpful links:\n",
    "- DataCamp [lesson](https://campus.datacamp.com/courses/machine-learning-with-tree-based-models-in-python/bagging-and-random-forests?ex=7) on Random Forests\n",
    "- Scikit-Learn [Random Forest](https://scikit-learn.org/stable/modules/generated/sklearn.ensemble.RandomForestClassifier.html) documentation\n",
    "\n",
    "\n",
    "\n",
    "Your code should output something like this:\n",
    "\n",
    "![Task 8 output](img/task_8_output.png)"
   ]
  },
  {
   "cell_type": "markdown",
   "metadata": {
    "tags": [
     "@hint"
    ]
   },
   "source": [
    "One correct solution looks like this (with some code removed):\n",
    "\n",
    "```python\n",
    "from ____ import ____\n",
    "\n",
    "# Instantiate a Random Forest Classifier\n",
    "rf = RandomForestClassifier(____=____, ____=____)\n",
    "            \n",
    "# Train your model   \n",
    "____.fit(____, ____) \n",
    "\n",
    "# Predict test set labels\n",
    "y_pred_rf = ____.predict(____)\n",
    "\n",
    "# Print test set accuracy\n",
    "print('Test set accuracy: {:.2f}'.format(accuracy_score(____, ____)))\n",
    "```\n",
    "\n",
    "If you're still stuck, [here](https://gist.github.com/feedthebeat90/7e7ea5db28164d306167e9b6e5ab9702) is the complete code for this solution"
   ]
  },
  {
   "cell_type": "code",
   "execution_count": 165,
   "metadata": {
    "tags": [
     "@sample_code"
    ]
   },
   "outputs": [],
   "source": [
    "# ... YOUR CODE FOR TASK 8 ..."
   ]
  },
  {
   "cell_type": "code",
   "execution_count": 166,
   "metadata": {
    "tags": [
     "@solution"
    ]
   },
   "outputs": [
    {
     "name": "stdout",
     "output_type": "stream",
     "text": [
      "Test set accuracy: 0.97\n"
     ]
    }
   ],
   "source": [
    "from sklearn.ensemble import RandomForestClassifier\n",
    "\n",
    "# Instantiate a Random Forest Classifier\n",
    "rf = RandomForestClassifier(n_estimators=25, random_state=SEED)\n",
    "            \n",
    "# Train your model   \n",
    "rf.fit(X_train, y_train) \n",
    "\n",
    "# Predict test set labels\n",
    "y_pred_rf = rf.predict(X_test)\n",
    "\n",
    "# Print test set accuracy\n",
    "print('Test set accuracy: {:.2f}'.format(accuracy_score(y_test, y_pred_rf)))"
   ]
  },
  {
   "cell_type": "code",
   "execution_count": 167,
   "metadata": {
    "tags": [
     "@tests"
    ]
   },
   "outputs": [
    {
     "data": {
      "application/json": "{\"success\": true, \"summary\": {\"tests\": 1, \"failures\": 0, \"errors\": 0}, \"tests\": [{\"name\": \"__main__.test_example\", \"success\": true, \"message\": \"\"}]}"
     },
     "metadata": {},
     "output_type": "display_data"
    },
    {
     "data": {
      "text/plain": [
       "1/1 tests passed\n"
      ]
     },
     "execution_count": 167,
     "metadata": {},
     "output_type": "execute_result"
    }
   ],
   "source": [
    "%%nose\n",
    "# %%nose needs to be included at the beginning of every @tests cell\n",
    "# David to complete template later. :)\n",
    "\n",
    "def test_example():\n",
    "    assert True, \"Test nothing for now.\""
   ]
  },
  {
   "cell_type": "markdown",
   "metadata": {
    "tags": [
     "type:NotebookTask"
    ]
   },
   "source": [
    "## 9. Checking the importance of features"
   ]
  },
  {
   "cell_type": "markdown",
   "metadata": {
    "tags": [
     "@context"
    ]
   },
   "source": [
    "<img style=\"float: left;margin:5px 20px 5px 1px\" src=\"img/giraffe.jpg\" width=\"200\" height=\"200\" align=\"right\">\n",
    "\n",
    "<!--\n",
    "<img style=\"float: left;margin:5px 20px 5px 1px\" src=\"https://images.unsplash.com/photo-1547721064-da6cfb341d50?ixlib=rb-1.2.1&ixid=eyJhcHBfaWQiOjEyMDd9&auto=format&fit=crop&w=634&q=80\">\n",
    "-->\n",
    "\n",
    "The random forest classifier scored 97% accuracy and matched the logistic regression model! \n",
    "\n",
    "Now that we have our random forest model, let's take a look at the importance of features. This way we can learn which features are the most relevant variables in our model when trying to classify an animal.\n",
    "\n",
    "One thing we should know is that selecting features for building a model requires some expert knowledge about the area of study. Therefore, one cool exercise we can do before moving forward is to think about the following: which five features would zoologists value the most if they had to classify different kinds of animals?\n",
    "\n",
    "\n",
    "\n"
   ]
  },
  {
   "cell_type": "markdown",
   "metadata": {
    "tags": [
     "@instructions"
    ]
   },
   "source": [
    "Use your random forest classifier to check the importance of features. \n",
    "\n",
    "- Store a `pd.Series` object on a variable named `importances`. Use `rf.feature_importances_` as `data` and set the `index` to `X_train.columns`.\n",
    "- Sort `importances` using `sort_values()` method and store them in `sorted_importances` variable.\n",
    "- Use `plot()` method to visualize the values stored in `sorted_importances`. Make your barplot horizontal setting `kind` to `'barh'` and choose your `color` to be `'lightgreen'`.\n",
    "\n",
    "<hr>\n",
    "\n",
    "Helpful links:\n",
    "- Visualizing features importances [exercise](https://campus.datacamp.com/courses/machine-learning-with-tree-based-models-in-python/bagging-and-random-forests?ex=10) on DataCamp\n",
    "- Scikit-Learn [Random Forest](https://scikit-learn.org/stable/modules/generated/sklearn.ensemble.RandomForestClassifier.html#sklearn.ensemble.RandomForestClassifier.feature_importances_) documentation\n",
    "\n",
    "Your code should output something like this:\n",
    "\n",
    "![Task 9 output](img/task_9_output.png)"
   ]
  },
  {
   "cell_type": "markdown",
   "metadata": {
    "tags": [
     "@hint"
    ]
   },
   "source": [
    "One correct solution looks like this (with some code removed):\n",
    "\n",
    "```python\n",
    "# Create a pd.Series with the importance of features\n",
    "importances = pd.Series(____=____.feature_importances_,\n",
    "                        ____=____.columns)\n",
    "\n",
    "# Sort importances before plotting\n",
    "sorted_importances = ____.sort_values()\n",
    "\n",
    "# Draw a horizontal barplot of importances_sorted\n",
    "____.plot(____=____, ____=____)\n",
    "plt.title('Features Importances')\n",
    "plt.show()\n",
    "```\n",
    "If you're still stuck, [here](https://gist.github.com/feedthebeat90/f3ffaca054709099cca6e44d4b068726) is the complete code for this solution"
   ]
  },
  {
   "cell_type": "code",
   "execution_count": 168,
   "metadata": {
    "tags": [
     "@sample_code"
    ]
   },
   "outputs": [],
   "source": [
    "# ... YOUR CODE FOR TASK 9 ..."
   ]
  },
  {
   "cell_type": "code",
   "execution_count": 169,
   "metadata": {
    "tags": [
     "@solution"
    ]
   },
   "outputs": [
    {
     "data": {
      "image/png": "[encoded data removed]",
      "text/plain": [
       "<Figure size 432x288 with 1 Axes>"
      ]
     },
     "metadata": {
      "needs_background": "light"
     },
     "output_type": "display_data"
    }
   ],
   "source": [
    "# Create a pd.Series with the importance of features\n",
    "importances = pd.Series(data=rf.feature_importances_,\n",
    "                        index= X_train.columns)\n",
    "\n",
    "# Sort importances before plotting\n",
    "sorted_importances = importances.sort_values()\n",
    "\n",
    "# Draw a horizontal barplot of importances_sorted\n",
    "sorted_importances.plot(kind='barh', color='lightgreen')\n",
    "plt.title('Features Importances')\n",
    "plt.show()"
   ]
  },
  {
   "cell_type": "code",
   "execution_count": 170,
   "metadata": {
    "tags": [
     "@tests"
    ]
   },
   "outputs": [
    {
     "data": {
      "application/json": "{\"success\": true, \"summary\": {\"tests\": 1, \"failures\": 0, \"errors\": 0}, \"tests\": [{\"name\": \"__main__.test_example\", \"success\": true, \"message\": \"\"}]}"
     },
     "metadata": {},
     "output_type": "display_data"
    },
    {
     "data": {
      "text/plain": [
       "1/1 tests passed\n"
      ]
     },
     "execution_count": 170,
     "metadata": {},
     "output_type": "execute_result"
    }
   ],
   "source": [
    "%%nose\n",
    "# %%nose needs to be included at the beginning of every @tests cell\n",
    "# David to complete template later. :)\n",
    "\n",
    "def test_example():\n",
    "    assert True, \"Test nothing for now.\""
   ]
  },
  {
   "cell_type": "markdown",
   "metadata": {
    "tags": [
     "type:NotebookTask"
    ]
   },
   "source": [
    "## 10. Analyzing results"
   ]
  },
  {
   "cell_type": "markdown",
   "metadata": {
    "tags": [
     "@context"
    ]
   },
   "source": [
    "<img style=\"float: right;margin:5px 20px 5px 1px\" src=\"img/frog.jpg\" width=\"300\" height=\"250\" align=\"right\">\n",
    "\n",
    "<!--\n",
    "<img style=\"float: left;margin:5px 20px 5px 1px\" src=\"https://images.unsplash.com/photo-1506506447188-78e2a1051d9e?ixlib=rb-1.2.1&ixid=eyJhcHBfaWQiOjEyMDd9&auto=format&fit=crop&w=1053&q=80\">\n",
    "-->\n",
    "\n",
    "Excellent job! Knowing whether the animal has `feathers`, if it can produce `milk`, or knowing how many `legs` it has, is particularly important for our model to make correct predictions. On the other hand, whether the animal is `domestic` or a `predator` does not seem to add much information to help solve our classification problem. <br> \n",
    "\n",
    "So far, we have tried different models types and increased model complexity in order to obtain a better accuracy metric. However, we have not looked at our results carefully yet! <br> <br>\n",
    "In the final part of our project, we are going to dive into our models' predictions to determine which animals might be difficult to predict. Do our models have limitations? Is the data good enough to solve our problem? Let's find out!\n"
   ]
  },
  {
   "cell_type": "markdown",
   "metadata": {
    "tags": [
     "@instructions"
    ]
   },
   "source": [
    "Analyze your results with a pre-defined function. \n",
    "\n",
    "- Import `support` module from `datasets`.\n",
    "- Use the `support.get_results()` method using `y_test`, `y_pred_dt`, `animals`, and `class_dict` as input arguments. Store the resulting DataFrame in the variable `results`. \n",
    "- Print the object stored in `results` and read it carefully.\n",
    "- Identify wrong predictions in `results` using the inequality `results['label'] != results['prediction']`. \n",
    "\n",
    "<hr>\n",
    "\n",
    "Helpful links:\n",
    "- useful [post](https://stackoverflow.com/questions/21800169/python-pandas-get-index-of-rows-which-column-matches-certain-value) on DataFrame indexing.\n",
    "\n",
    "Your code should output something like this:\n",
    "\n",
    "![Task 10 output](img/task_10_output.png)"
   ]
  },
  {
   "cell_type": "markdown",
   "metadata": {
    "tags": [
     "@hint"
    ]
   },
   "source": [
    "One correct solution looks like this (with some code removed):\n",
    "\n",
    "```python\n",
    "from ____ import ____\n",
    "\n",
    "# Use get_results function with predictions from Decision Tree Model\n",
    "results = support.get_results(____, ____, ____, ____)\n",
    "\n",
    "# Print the DataFrame stored in results\n",
    "print(____)\n",
    "\n",
    "# Identify animals where our model made mistakes\n",
    "____[____[____] != ____[____]]\n",
    "```\n",
    "\n",
    "If you're still stuck, [here](https://gist.github.com/feedthebeat90/c901f74c774e483ef523f9f7cb8e9d9c) is the complete code for this solution"
   ]
  },
  {
   "cell_type": "code",
   "execution_count": 171,
   "metadata": {
    "tags": [
     "@sample_code"
    ]
   },
   "outputs": [],
   "source": [
    "# ... YOUR CODE FOR TASK 10 ..."
   ]
  },
  {
   "cell_type": "code",
   "execution_count": 172,
   "metadata": {
    "tags": [
     "@solution"
    ]
   },
   "outputs": [
    {
     "name": "stdout",
     "output_type": "stream",
     "text": [
      "   animal_name  label  prediction    true_class predicted_class\n",
      "19     dolphin      1           1        Mammal          Mammal\n",
      "1     antelope      1           1        Mammal          Mammal\n",
      "89        toad      5           5     Amphibian       Amphibian\n",
      "2         bass      4           4          Fish            Fish\n",
      "43        lark      2           2          Bird            Bird\n",
      "93     vampire      1           1        Mammal          Mammal\n",
      "85    starfish      7           7  Invertebrate    Invertebrate\n",
      "76    seasnake      3           5       Reptile       Amphibian\n",
      "96     wallaby      1           1        Mammal          Mammal\n",
      "18     dogfish      4           4          Fish            Fish\n",
      "27    fruitbat      1           1        Mammal          Mammal\n",
      "32     gorilla      1           1        Mammal          Mammal\n",
      "28     giraffe      1           1        Mammal          Mammal\n",
      "13        clam      7           7  Invertebrate    Invertebrate\n",
      "35     hamster      1           1        Mammal          Mammal\n",
      "51        moth      6           6           Bug             Bug\n",
      "78     skimmer      2           2          Bird            Bird\n",
      "42    ladybird      6           7           Bug    Invertebrate\n",
      "15    crayfish      7           7  Invertebrate    Invertebrate\n",
      "6         calf      1           1        Mammal          Mammal\n",
      "29        girl      1           1        Mammal          Mammal\n",
      "17        deer      1           1        Mammal          Mammal\n",
      "62    pitviper      3           3       Reptile         Reptile\n",
      "8      catfish      4           4          Fish            Fish\n",
      "10     cheetah      1           1        Mammal          Mammal\n",
      "71        rhea      2           2          Bird            Bird\n",
      "79        skua      2           2          Bird            Bird\n",
      "41        kiwi      2           2          Bird            Bird\n",
      "0     aardvark      1           1        Mammal          Mammal\n",
      "73    seahorse      4           4          Fish            Fish\n",
      "57    parakeet      2           2          Bird            Bird\n"
     ]
    },
    {
     "data": {
      "text/html": [
       "<div>\n",
       "<style scoped>\n",
       "    .dataframe tbody tr th:only-of-type {\n",
       "        vertical-align: middle;\n",
       "    }\n",
       "\n",
       "    .dataframe tbody tr th {\n",
       "        vertical-align: top;\n",
       "    }\n",
       "\n",
       "    .dataframe thead th {\n",
       "        text-align: right;\n",
       "    }\n",
       "</style>\n",
       "<table border=\"1\" class=\"dataframe\">\n",
       "  <thead>\n",
       "    <tr style=\"text-align: right;\">\n",
       "      <th></th>\n",
       "      <th>animal_name</th>\n",
       "      <th>label</th>\n",
       "      <th>prediction</th>\n",
       "      <th>true_class</th>\n",
       "      <th>predicted_class</th>\n",
       "    </tr>\n",
       "  </thead>\n",
       "  <tbody>\n",
       "    <tr>\n",
       "      <th>76</th>\n",
       "      <td>seasnake</td>\n",
       "      <td>3</td>\n",
       "      <td>5</td>\n",
       "      <td>Reptile</td>\n",
       "      <td>Amphibian</td>\n",
       "    </tr>\n",
       "    <tr>\n",
       "      <th>42</th>\n",
       "      <td>ladybird</td>\n",
       "      <td>6</td>\n",
       "      <td>7</td>\n",
       "      <td>Bug</td>\n",
       "      <td>Invertebrate</td>\n",
       "    </tr>\n",
       "  </tbody>\n",
       "</table>\n",
       "</div>"
      ],
      "text/plain": [
       "   animal_name  label  prediction true_class predicted_class\n",
       "76    seasnake      3           5    Reptile       Amphibian\n",
       "42    ladybird      6           7        Bug    Invertebrate"
      ]
     },
     "execution_count": 172,
     "metadata": {},
     "output_type": "execute_result"
    }
   ],
   "source": [
    "from datasets import support\n",
    "\n",
    "# Use get_results function with predictions from Decision Tree Model\n",
    "results = support.get_results(y_test, y_pred_dt, animals, class_dict)\n",
    "\n",
    "# Print the DataFrame stored in results\n",
    "print(results)\n",
    "\n",
    "# Identify animals where our model made mistakes\n",
    "results[results['label'] != results['prediction']]"
   ]
  },
  {
   "cell_type": "code",
   "execution_count": 173,
   "metadata": {
    "tags": [
     "@tests"
    ]
   },
   "outputs": [
    {
     "data": {
      "application/json": "{\"success\": true, \"summary\": {\"tests\": 1, \"failures\": 0, \"errors\": 0}, \"tests\": [{\"name\": \"__main__.test_example\", \"success\": true, \"message\": \"\"}]}"
     },
     "metadata": {},
     "output_type": "display_data"
    },
    {
     "data": {
      "text/plain": [
       "1/1 tests passed\n"
      ]
     },
     "execution_count": 173,
     "metadata": {},
     "output_type": "execute_result"
    }
   ],
   "source": [
    "%%nose\n",
    "# %%nose needs to be included at the beginning of every @tests cell\n",
    "# David to complete template later. :)\n",
    "\n",
    "def test_example():\n",
    "    assert True, \"Test nothing for now.\""
   ]
  },
  {
   "cell_type": "markdown",
   "metadata": {
    "tags": [
     "type:NotebookTask"
    ]
   },
   "source": [
    "## Data limitations and conclusions"
   ]
  },
  {
   "cell_type": "markdown",
   "metadata": {
    "tags": [
     "@context"
    ]
   },
   "source": [
    "<img style=\"float: left;margin:5px 20px 5px 1px\" src=\"img/ladybug.jpg\" width=\"300\" height=\"200\" align=\"right\">\n",
    "\n",
    "<!--\n",
    "<img style=\"float: left;margin:5px 20px 5px 1px\" src=\"https://images.unsplash.com/photo-1518452316511-880407ae01cf?ixlib=rb-1.2.1&ixid=eyJhcHBfaWQiOjEyMDd9&auto=format&fit=crop&w=800&q=80\">\n",
    "-->\n",
    "\n",
    "The decision tree mistakenly classified 2 out of 31 animals in the test set. The \"seasnake\", a `Reptile`, was predicted to be an `Amphibian`. The \"ladybird\", a `Bug`, was predicted to be an `Invertebrate`. Notice how those misclassifications belong to labels that are less frequent in the label distribution graph from Task 2. Also, zoologists group bugs and invertebrates together, so expect some difficulties in distinguishing these two classes.\n",
    "\n",
    "From our analysis, we can intuit that the ability of our model to accurately predict an animal's class based on its traits depends not only on the complexity of the model but also on the quantity and quality of the training data! \n",
    "\n",
    "Lastly, we should note that choosing 'accuracy' as a metric for our models might not have been the best choice given the distribution of labels in our dataset was \"skewed\". Other metric choices such as recall, precision or F1 score could have yielded better results, but this is outside the scope of our analysis."
   ]
  },
  {
   "cell_type": "markdown",
   "metadata": {
    "tags": [
     "@instructions"
    ]
   },
   "source": [
    "- According to the analysis of results, is it `True` or `False` that the 'dolphin' was correctly classified? \n",
    "\n",
    "<hr>\n",
    "\n",
    "Congratulations on reaching the end of the project! If you have not tried it already, you should check your project now by clicking the \"Check Project\" button.\n",
    "\n",
    "Good luck! :]\n",
    "\n",
    "\n",
    "If you'd like to continue building your Python skills, all of DataCamp's Python courses are listed [here](https://www.datacamp.com/courses/tech:python).\n",
    "\n",
    "__There is no expected output for this task.__"
   ]
  },
  {
   "cell_type": "markdown",
   "metadata": {
    "tags": [
     "@hint"
    ]
   },
   "source": [
    "One correct solution looks like this (with some code removed):\n",
    "\n",
    "```python\n",
    "# According to the analysis of results: \n",
    "the_dolphin_was_correctly_classified = ____\n",
    "```\n",
    "\n",
    "If you're still stuck, [here](https://gist.github.com/feedthebeat90/4ab1dd862a8b7a33b61a966f4d71c70c) is the complete code for this solution"
   ]
  },
  {
   "cell_type": "code",
   "execution_count": 174,
   "metadata": {
    "tags": [
     "@sample_code"
    ]
   },
   "outputs": [],
   "source": [
    "# According to the analysis of results: \n",
    "the_dolphin_was_correctly_classified = False"
   ]
  },
  {
   "cell_type": "code",
   "execution_count": 175,
   "metadata": {
    "tags": [
     "@solution"
    ]
   },
   "outputs": [],
   "source": [
    "# According to the analysis of results: \n",
    "the_dolphin_was_correctly_classified = True"
   ]
  },
  {
   "cell_type": "code",
   "execution_count": 176,
   "metadata": {
    "tags": [
     "@tests"
    ]
   },
   "outputs": [
    {
     "data": {
      "application/json": "{\"success\": true, \"summary\": {\"tests\": 1, \"failures\": 0, \"errors\": 0}, \"tests\": [{\"name\": \"__main__.test_example\", \"success\": true, \"message\": \"\"}]}"
     },
     "metadata": {},
     "output_type": "display_data"
    },
    {
     "data": {
      "text/plain": [
       "1/1 tests passed\n"
      ]
     },
     "execution_count": 176,
     "metadata": {},
     "output_type": "execute_result"
    }
   ],
   "source": [
    "%%nose\n",
    "# %%nose needs to be included at the beginning of every @tests cell\n",
    "# David to complete template later. :)\n",
    "\n",
    "def test_example():\n",
    "    assert True, \"Test nothing for now.\""
   ]
  },
  {
   "cell_type": "markdown",
   "metadata": {},
   "source": [
    "*The recommended number of tasks in a DataCamp project is between 8 and 10, so feel free to add more if necessary. You can't have more than 12 tasks.*\n",
    "\n",
    "*We need a full suite of tagged cells (i.e. @context, @instructions, etc.) for all tasks with the exact correct tagging, otherwise, the project won't build and won't show up on datacamp.com. To ensure this, copy and paste the the cells above to make more tasks as done in [this screenshare](https://www.useloom.com/share/fe2b7da288454cd18f8a7a606d32eecf).*"
   ]
  }
 ],
 "metadata": {
  "celltoolbar": "Tags",
  "jupytext": {
   "formats": "ipynb,md"
  },
  "kernelspec": {
   "display_name": "Python 3",
   "language": "python",
   "name": "python3"
  },
  "language_info": {
   "codemirror_mode": {
    "name": "ipython",
    "version": 3
   },
   "file_extension": ".py",
   "mimetype": "text/x-python",
   "name": "python",
   "nbconvert_exporter": "python",
   "pygments_lexer": "ipython3",
   "version": "3.7.3"
  }
 },
 "nbformat": 4,
 "nbformat_minor": 2
}
